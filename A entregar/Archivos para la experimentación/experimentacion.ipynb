{
 "cells": [
  {
   "cell_type": "code",
   "execution_count": null,
   "metadata": {},
   "outputs": [],
   "source": [
    "import numpy\n",
    "import pandas \n",
    "import seaborn \n",
    "import matplotlib.pyplot as plt"
   ]
  },
  {
   "cell_type": "code",
   "execution_count": null,
   "metadata": {},
   "outputs": [],
   "source": [
    "medidas_denso = pandas.read_csv(\"medidas_denso.csv\", delimiter = \";\", names = [\"tiempo\", \"cantidad de oficinas\"])\n",
    "plt.plot(medidas_denso[\"tiempo\"], medidas_denso[\"cantidad de oficinas\"],marker = \"o\", linestyle = \" \", color = \"indianred\")\n",
    "\n",
    "x1 = medidas_denso[\"tiempo\"]\n",
    "y1 = medidas_denso[\"cantidad de oficinas\"]\n",
    "\n",
    "coefficients1 = numpy.polyfit(x1, y1, 2)\n",
    "polynomial1 = numpy.poly1d(coefficients1)\n",
    "\n",
    "x1_fit = numpy.linspace(min(x1), max(x1), 100)\n",
    "y1_fit = polynomial1(x1_fit)\n",
    "\n",
    "plt.scatter(x1, y1, label='Datos')\n",
    "plt.plot(x1_fit, y1_fit, color=\"maroon\",label='Ajuste polinómico cuadrático')\n",
    "\n",
    "\n",
    "medidas_no_optimizadas = pandas.read_csv(\"medidas_no_optimizadas.csv\", delimiter = \";\", names = [\"tiempo\", \"cantidad de oficinas\"])\n",
    "plt.plot(medidas_no_optimizadas[\"tiempo\"], medidas_no_optimizadas[\"cantidad de oficinas\"],marker = \"o\", linestyle = \" \", color = \"royalblue\")\n",
    "\n",
    "x3 = medidas_no_optimizadas[\"tiempo\"]\n",
    "y3 = medidas_no_optimizadas[\"cantidad de oficinas\"]\n",
    "\n",
    "coefficients3 = numpy.polyfit(x3, y3, 2)\n",
    "polynomial3 = numpy.poly1d(coefficients3)\n",
    "\n",
    "x3_fit = numpy.linspace(min(x3), max(x3), 100)\n",
    "y3_fit = polynomial3(x3_fit)\n",
    "\n",
    "plt.scatter(x3, y3, label='Datos')\n",
    "plt.plot(x3_fit, y3_fit, color=\"midnightblue\",label='Ajuste polinómico cuadrático')\n",
    "\n",
    "medidas_modems = pandas.read_csv(\"medidas_modems.csv\", delimiter = \";\", names = [\"tiempo\", \"cantidad de oficinas\"])\n",
    "plt.plot( medidas_modems[\"tiempo\"], medidas_modems[\"cantidad de oficinas\"],marker = \"o\", linestyle = \" \", color = \"plum\")\n",
    "x2 = medidas_modems[\"tiempo\"]\n",
    "y2 = medidas_modems[\"cantidad de oficinas\"]\n",
    "\n",
    "coefficients2 = numpy.polyfit(x2, y2, 2)\n",
    "polynomial2 = numpy.poly1d(coefficients2)\n",
    "\n",
    "x2_fit = numpy.linspace(min(x2), max(x2), 100)\n",
    "y2_fit = polynomial2(x2_fit)\n",
    "\n",
    "plt.scatter(x2, y2, label='Datos')\n",
    "plt.plot(x2_fit, y2_fit, color=\"purple\",label='Ajuste polinómico cuadrático')\n",
    "\n",
    "plt.xlabel(\"cantidad de oficinas (n)\")\n",
    "plt.ylabel(\"Tiempo (milliseconds)\")\n",
    "\n",
    "plt.show()"
   ]
  }
 ],
 "metadata": {
  "kernelspec": {
   "display_name": "Python 3",
   "language": "python",
   "name": "python3"
  },
  "language_info": {
   "codemirror_mode": {
    "name": "ipython",
    "version": 3
   },
   "file_extension": ".py",
   "mimetype": "text/x-python",
   "name": "python",
   "nbconvert_exporter": "python",
   "pygments_lexer": "ipython3",
   "version": "3.10.6"
  },
  "orig_nbformat": 4
 },
 "nbformat": 4,
 "nbformat_minor": 2
}
